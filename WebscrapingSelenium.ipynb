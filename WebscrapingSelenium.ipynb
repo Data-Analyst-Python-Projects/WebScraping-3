{
 "cells": [
  {
   "cell_type": "code",
   "execution_count": 22,
   "id": "264fe0fe-38ae-41aa-b688-a66cc637128b",
   "metadata": {},
   "outputs": [],
   "source": [
    "import time\n",
    "from selenium import webdriver\n",
    "from selenium.webdriver.chrome.service import Service \n",
    "from selenium.webdriver.chrome.options import Options\n",
    "from webdriver_manager.chrome import ChromeDriverManager\n"
   ]
  },
  {
   "cell_type": "code",
   "execution_count": 23,
   "id": "e23f7971-47df-4328-84a7-fec1d97b959c",
   "metadata": {},
   "outputs": [
    {
     "name": "stdout",
     "output_type": "stream",
     "text": [
      "https://www.amazon.com/Python-Bible-Beginner-Intermediate-Learning-ebook/dp/B0868PZBCJ/ref=sr_1_1?qid=1670067650&refinements=p_27%3AFlorian+Dedov&s=books&sr=1-1\n",
      "https://www.amazon.com/Python-Bible-Beginner-Intermediate-Learning-ebook/dp/B0868PZBCJ/ref=sr_1_1?qid=1670067650&refinements=p_27%3AFlorian+Dedov&s=books&sr=1-1\n",
      " $32.82 - $37.99 \n"
     ]
    }
   ],
   "source": [
    "options = Options()\n",
    "options.add_experimental_option(\"detach\", True)\n",
    "\n",
    "driver = webdriver.Chrome(service=Service(ChromeDriverManager().install()), options = options)\n",
    "\n",
    "driver.get(\"https://www.neuralnine.com/\")\n",
    "\n",
    "driver.maximize_window()\n",
    "\n",
    "links = driver.find_elements(\"xpath\", \"//a[@href]\")\n",
    "\n",
    "for link in links:\n",
    "    if \"Books\" in link.get_attribute(\"innerHTML\"):\n",
    "        link.click()\n",
    "        break\n",
    "\n",
    "book_links = driver.find_elements(\"xpath\",\n",
    "                                  \"//div[contains(@class, 'elementor-column-wrap')][.//h2[text()[contains(., '7 IN 1')]]][count(.//a)=2]//a\")\n",
    "\n",
    "for book_link in book_links:\n",
    "    print(book_link.get_attribute(\"href\"))\n",
    "\n",
    "book_links[0].click()\n",
    "\n",
    "driver.switch_to.window(driver.window_handles[1])\n",
    "\n",
    "time.sleep(3)\n",
    "\n",
    "buttons = driver.find_elements(\"xpath\", \"//a[.//span[text()[contains(., 'Paperback')]]]//span[text()[contains(., '$')]]\")\n",
    "\n",
    "for button in buttons:\n",
    "    print(button.get_attribute('innerHTML'))\n",
    "        \n",
    "                                  "
   ]
  },
  {
   "cell_type": "code",
   "execution_count": null,
   "id": "6590c1d2-dfb8-4458-adfe-0ea555137366",
   "metadata": {},
   "outputs": [],
   "source": []
  }
 ],
 "metadata": {
  "kernelspec": {
   "display_name": "Python 3 (ipykernel)",
   "language": "python",
   "name": "python3"
  },
  "language_info": {
   "codemirror_mode": {
    "name": "ipython",
    "version": 3
   },
   "file_extension": ".py",
   "mimetype": "text/x-python",
   "name": "python",
   "nbconvert_exporter": "python",
   "pygments_lexer": "ipython3",
   "version": "3.11.7"
  }
 },
 "nbformat": 4,
 "nbformat_minor": 5
}
